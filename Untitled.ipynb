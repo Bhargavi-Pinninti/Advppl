{
  "nbformat": 4,
  "nbformat_minor": 0,
  "metadata": {
    "colab": {
      "name": "Untitled",
      "provenance": [],
      "authorship_tag": "ABX9TyOs2ko48Nsi4MQbkqQVXPsB",
      "include_colab_link": true
    },
    "kernelspec": {
      "name": "python3",
      "display_name": "Python 3"
    },
    "language_info": {
      "name": "python"
    }
  },
  "cells": [
    {
      "cell_type": "markdown",
      "metadata": {
        "id": "view-in-github",
        "colab_type": "text"
      },
      "source": [
        "<a href=\"https://colab.research.google.com/github/Bhargavi-Pinninti/Advppl/blob/main/Untitled.ipynb\" target=\"_parent\"><img src=\"https://colab.research.google.com/assets/colab-badge.svg\" alt=\"Open In Colab\"/></a>"
      ]
    },
    {
      "cell_type": "code",
      "metadata": {
        "colab": {
          "base_uri": "https://localhost:8080/"
        },
        "id": "P8e1l54aE56v",
        "outputId": "eac1078e-10e7-410c-f4db-2b351bbaa4bd"
      },
      "source": [
        "print(\"Hello World\")"
      ],
      "execution_count": 1,
      "outputs": [
        {
          "output_type": "stream",
          "text": [
            "Hello World\n"
          ],
          "name": "stdout"
        }
      ]
    },
    {
      "cell_type": "code",
      "metadata": {
        "colab": {
          "base_uri": "https://localhost:8080/"
        },
        "id": "tXqf1UTfFJ1o",
        "outputId": "34cc2d46-f40f-442a-9b95-8a1a08537fe4"
      },
      "source": [
        "a = 20 \n",
        "b = 12\n",
        "Sub = a-b\n",
        "print(Sub)"
      ],
      "execution_count": 3,
      "outputs": [
        {
          "output_type": "stream",
          "text": [
            "8\n"
          ],
          "name": "stdout"
        }
      ]
    },
    {
      "cell_type": "code",
      "metadata": {
        "colab": {
          "base_uri": "https://localhost:8080/"
        },
        "id": "eAVYM2PlFbxz",
        "outputId": "ba27ea29-ea0e-4023-ae1b-ea19a9e22fcb"
      },
      "source": [
        "a = 11\n",
        "b = 11\n",
        "if(a>b):\n",
        "    print(\"Greater\")\n",
        "elif(a<b):\n",
        "    print(\"Smaller\")\n",
        "else:\n",
        "    print(\"Equal\")"
      ],
      "execution_count": 4,
      "outputs": [
        {
          "output_type": "stream",
          "text": [
            "Equal\n"
          ],
          "name": "stdout"
        }
      ]
    }
  ]
}